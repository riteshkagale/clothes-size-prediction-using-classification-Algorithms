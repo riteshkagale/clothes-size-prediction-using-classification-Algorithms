{
  "nbformat": 4,
  "nbformat_minor": 0,
  "metadata": {
    "colab": {
      "name": "DT.ipynb",
      "provenance": [],
      "collapsed_sections": []
    },
    "kernelspec": {
      "name": "python3",
      "display_name": "Python 3"
    }
  },
  "cells": [
    {
      "cell_type": "markdown",
      "metadata": {
        "id": "AJjzS10w8uZ9"
      },
      "source": [
        "### Importing the libraries"
      ]
    },
    {
      "cell_type": "code",
      "metadata": {
        "id": "owBVWRNN8oZO"
      },
      "source": [
        "import pandas as pd\n",
        "import numpy as np"
      ],
      "execution_count": 1,
      "outputs": []
    },
    {
      "cell_type": "markdown",
      "metadata": {
        "id": "dqgxdeoD9HJL"
      },
      "source": [
        "### Importing the dataset"
      ]
    },
    {
      "cell_type": "code",
      "metadata": {
        "id": "eoygc9Qo9KR4"
      },
      "source": [
        "dataset = pd.read_csv(\"/content/drive/My Drive/Colab Notebooks/Clothes Size Prediction/final_test.csv\")"
      ],
      "execution_count": 2,
      "outputs": []
    },
    {
      "cell_type": "code",
      "metadata": {
        "id": "fm8C3fJfN4MT",
        "outputId": "3ff0a83a-d035-443f-f605-626ccb5bbfbd",
        "colab": {
          "base_uri": "https://localhost:8080/"
        }
      },
      "source": [
        "print(dataset.head())"
      ],
      "execution_count": 3,
      "outputs": [
        {
          "output_type": "stream",
          "text": [
            "   weight   age  height size\n",
            "0      62  28.0  172.72   XL\n",
            "1      59  36.0  167.64    L\n",
            "2      61  34.0  165.10    M\n",
            "3      65  27.0  175.26    L\n",
            "4      62  45.0  172.72    M\n"
          ],
          "name": "stdout"
        }
      ]
    },
    {
      "cell_type": "code",
      "metadata": {
        "id": "2J1SNkyk9bBr"
      },
      "source": [
        "X = dataset.iloc[:, :-1].values\n",
        "y = dataset.iloc[:, -1].values"
      ],
      "execution_count": 4,
      "outputs": []
    },
    {
      "cell_type": "markdown",
      "metadata": {
        "id": "IKiaP3zJMwY6"
      },
      "source": [
        "#### Check for NaN under an entire Dataset"
      ]
    },
    {
      "cell_type": "code",
      "metadata": {
        "id": "cbhpITYXMcgp",
        "outputId": "9b53fb4b-d6b5-4517-e127-f3460bddeea4",
        "colab": {
          "base_uri": "https://localhost:8080/"
        }
      },
      "source": [
        "dataset.isnull().values.any()"
      ],
      "execution_count": 5,
      "outputs": [
        {
          "output_type": "execute_result",
          "data": {
            "text/plain": [
              "True"
            ]
          },
          "metadata": {
            "tags": []
          },
          "execution_count": 5
        }
      ]
    },
    {
      "cell_type": "markdown",
      "metadata": {
        "id": "40_3ZHW3M1-d"
      },
      "source": [
        "#### Count the NaN under an entire Dataset"
      ]
    },
    {
      "cell_type": "code",
      "metadata": {
        "id": "Wm8j37JZMj7b",
        "outputId": "cff22487-7b31-4076-e621-0e0372d0747f",
        "colab": {
          "base_uri": "https://localhost:8080/"
        }
      },
      "source": [
        "dataset.isnull().sum().sum()"
      ],
      "execution_count": 6,
      "outputs": [
        {
          "output_type": "execute_result",
          "data": {
            "text/plain": [
              "587"
            ]
          },
          "metadata": {
            "tags": []
          },
          "execution_count": 6
        }
      ]
    },
    {
      "cell_type": "code",
      "metadata": {
        "id": "ZnYmTXXINGhN",
        "outputId": "2484879c-8d01-498e-8f79-d23b903f2ba2",
        "colab": {
          "base_uri": "https://localhost:8080/"
        }
      },
      "source": [
        "dataset.isna().any()"
      ],
      "execution_count": 7,
      "outputs": [
        {
          "output_type": "execute_result",
          "data": {
            "text/plain": [
              "weight    False\n",
              "age        True\n",
              "height     True\n",
              "size      False\n",
              "dtype: bool"
            ]
          },
          "metadata": {
            "tags": []
          },
          "execution_count": 7
        }
      ]
    },
    {
      "cell_type": "markdown",
      "metadata": {
        "id": "EydB_nldNWuX"
      },
      "source": [
        "#### Taking care of missing data"
      ]
    },
    {
      "cell_type": "code",
      "metadata": {
        "id": "SZTQKixZNa4D"
      },
      "source": [
        "from sklearn.impute import SimpleImputer\n",
        "imputer = SimpleImputer(missing_values=np.nan, strategy='mean')\n",
        "imputer.fit(X[:, 1:3])\n",
        "X[:, 1:3] = imputer.transform(X[:, 1:3])"
      ],
      "execution_count": 8,
      "outputs": []
    },
    {
      "cell_type": "markdown",
      "metadata": {
        "id": "qKUWmpYu92Y-"
      },
      "source": [
        "#### Encoding the dependent variable"
      ]
    },
    {
      "cell_type": "code",
      "metadata": {
        "id": "n0kR0xrc9tWR"
      },
      "source": [
        "from sklearn.preprocessing import LabelEncoder\n",
        "le = LabelEncoder()\n",
        "y = le.fit_transform(y)"
      ],
      "execution_count": 9,
      "outputs": []
    },
    {
      "cell_type": "code",
      "metadata": {
        "id": "Q1ujCpTK-H_j",
        "outputId": "ba657d1c-74bc-4675-cfbd-db8e656335e2",
        "colab": {
          "base_uri": "https://localhost:8080/"
        }
      },
      "source": [
        "print(set(y))"
      ],
      "execution_count": 10,
      "outputs": [
        {
          "output_type": "stream",
          "text": [
            "{0, 1, 2, 3, 4, 5, 6}\n"
          ],
          "name": "stdout"
        }
      ]
    },
    {
      "cell_type": "markdown",
      "metadata": {
        "id": "uD1VP41NQG1x"
      },
      "source": [
        "#### Splitting the dataset into training and test set"
      ]
    },
    {
      "cell_type": "code",
      "metadata": {
        "id": "IN7YoY3KKdHz"
      },
      "source": [
        "from sklearn.model_selection import train_test_split\n",
        "X_train, X_test, y_train, y_test = train_test_split(X, y, test_size = 0.2, random_state = 0)"
      ],
      "execution_count": 11,
      "outputs": []
    },
    {
      "cell_type": "markdown",
      "metadata": {
        "id": "JO9cQ51gQPgg"
      },
      "source": [
        "#### Feature Scalling"
      ]
    },
    {
      "cell_type": "code",
      "metadata": {
        "id": "--jw-aG4Lr2K"
      },
      "source": [
        "from sklearn.preprocessing import StandardScaler\n",
        "sc = StandardScaler()\n",
        "X_train = sc.fit_transform(X_train)\n",
        "X_test = sc.transform(X_test)"
      ],
      "execution_count": 12,
      "outputs": []
    },
    {
      "cell_type": "markdown",
      "metadata": {
        "id": "PyV8V5U5Lrrv"
      },
      "source": [
        "### Training the model on the training set"
      ]
    },
    {
      "cell_type": "code",
      "metadata": {
        "id": "IjVeKab4LzwW",
        "outputId": "81f38d5e-2357-4166-dbd6-e31d2723fa98",
        "colab": {
          "base_uri": "https://localhost:8080/"
        }
      },
      "source": [
        "from sklearn.tree import DecisionTreeClassifier\n",
        "classifier = DecisionTreeClassifier(criterion = 'gini', max_depth=10)\n",
        "classifier.fit(X_train, y_train)"
      ],
      "execution_count": 13,
      "outputs": [
        {
          "output_type": "execute_result",
          "data": {
            "text/plain": [
              "DecisionTreeClassifier(ccp_alpha=0.0, class_weight=None, criterion='gini',\n",
              "                       max_depth=10, max_features=None, max_leaf_nodes=None,\n",
              "                       min_impurity_decrease=0.0, min_impurity_split=None,\n",
              "                       min_samples_leaf=1, min_samples_split=2,\n",
              "                       min_weight_fraction_leaf=0.0, presort='deprecated',\n",
              "                       random_state=None, splitter='best')"
            ]
          },
          "metadata": {
            "tags": []
          },
          "execution_count": 13
        }
      ]
    },
    {
      "cell_type": "markdown",
      "metadata": {
        "id": "OJJlUuMiQX05"
      },
      "source": [
        "#### Making confusion matrix"
      ]
    },
    {
      "cell_type": "code",
      "metadata": {
        "id": "X1jgEeGCL6hE",
        "outputId": "db71cb53-d0e3-4cfe-f90a-132686f579bb",
        "colab": {
          "base_uri": "https://localhost:8080/"
        }
      },
      "source": [
        "from sklearn.metrics import accuracy_score\n",
        "y_pred = classifier.predict(X_test)\n",
        "accuracy_score(y_test, y_pred)"
      ],
      "execution_count": 14,
      "outputs": [
        {
          "output_type": "execute_result",
          "data": {
            "text/plain": [
              "0.5160980498601078"
            ]
          },
          "metadata": {
            "tags": []
          },
          "execution_count": 14
        }
      ]
    },
    {
      "cell_type": "code",
      "metadata": {
        "id": "uGogTWMkyUHQ"
      },
      "source": [
        "    # Creating Parameter Space\n",
        "    # Creating a list of a sequence of integers from 1 to 30 (the number of features in X + 1)\n",
        "    n_components = list(range(1,X.shape[1]+1,1))\n",
        "\n",
        "    # Creating lists of parameter for Decision Tree Classifier\n",
        "    criterion = ['gini', 'entropy']\n",
        "    max_depth = [2,4,6,8,10,12]"
      ],
      "execution_count": 15,
      "outputs": []
    },
    {
      "cell_type": "code",
      "metadata": {
        "id": "cGghFrmYybZQ",
        "outputId": "08462ba5-3c3f-4ce0-b6a8-429d5e79840d",
        "colab": {
          "base_uri": "https://localhost:8080/"
        }
      },
      "source": [
        "parameters = dict(criterion=criterion,\n",
        "                  max_depth=max_depth)\n",
        "print(parameters)"
      ],
      "execution_count": 16,
      "outputs": [
        {
          "output_type": "stream",
          "text": [
            "{'criterion': ['gini', 'entropy'], 'max_depth': [2, 4, 6, 8, 10, 12]}\n"
          ],
          "name": "stdout"
        }
      ]
    },
    {
      "cell_type": "code",
      "metadata": {
        "id": "VkCNPrlwyd_a",
        "outputId": "5cd7b0af-47f7-4892-940b-7d9180d3a498",
        "colab": {
          "base_uri": "https://localhost:8080/"
        }
      },
      "source": [
        "from sklearn.model_selection import GridSearchCV\n",
        "grid_search = GridSearchCV(estimator = classifier,\n",
        "                           param_grid = parameters)\n",
        "grid_search.fit(X_train, y_train)\n",
        "best_accuracy = grid_search.best_score_\n",
        "best_parameters = grid_search.best_params_\n",
        "print(\"Best Accuracy: {:.2f} %\".format(best_accuracy*100))\n",
        "print(\"Best Parameters:\", best_parameters)"
      ],
      "execution_count": 17,
      "outputs": [
        {
          "output_type": "stream",
          "text": [
            "Best Accuracy: 51.47 %\n",
            "Best Parameters: {'criterion': 'gini', 'max_depth': 10}\n"
          ],
          "name": "stdout"
        }
      ]
    },
    {
      "cell_type": "markdown",
      "metadata": {
        "id": "r57EDR7kQwFi"
      },
      "source": [
        "### Predicting "
      ]
    },
    {
      "cell_type": "code",
      "metadata": {
        "id": "3gxKmodAkCnn"
      },
      "source": [
        "y_pred = classifier.predict(X_test)"
      ],
      "execution_count": 18,
      "outputs": []
    },
    {
      "cell_type": "code",
      "metadata": {
        "id": "x5XROk4pP1vh"
      },
      "source": [
        "pred = (classifier.predict(sc.transform([[58, 24, 172]]))) ### W, A, H"
      ],
      "execution_count": 19,
      "outputs": []
    },
    {
      "cell_type": "code",
      "metadata": {
        "id": "DYqxu1MnOlGS",
        "outputId": "e39dd029-9ccc-4d1f-9b05-48dfb2d2f090",
        "colab": {
          "base_uri": "https://localhost:8080/"
        }
      },
      "source": [
        "predictions_test = le.inverse_transform(pred)\n",
        "print(predictions_test)"
      ],
      "execution_count": 20,
      "outputs": [
        {
          "output_type": "stream",
          "text": [
            "['S']\n"
          ],
          "name": "stdout"
        }
      ]
    },
    {
      "cell_type": "code",
      "metadata": {
        "id": "tSEU5DI4V8Ek",
        "outputId": "b9e59e44-9ae8-4c4d-c7c0-d6eabe182ff2",
        "colab": {
          "base_uri": "https://localhost:8080/"
        }
      },
      "source": [
        "y_pred = classifier.predict(X_test)\n",
        "print(np.concatenate((y_pred.reshape(len(y_pred),1), y_test.reshape(len(y_test),1)),1))"
      ],
      "execution_count": 21,
      "outputs": [
        {
          "output_type": "stream",
          "text": [
            "[[0 0]\n",
            " [0 0]\n",
            " [2 1]\n",
            " ...\n",
            " [3 3]\n",
            " [1 2]\n",
            " [5 5]]\n"
          ],
          "name": "stdout"
        }
      ]
    }
  ]
}